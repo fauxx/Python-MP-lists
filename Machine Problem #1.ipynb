{
 "cells": [
  {
   "cell_type": "code",
   "execution_count": null,
   "metadata": {},
   "outputs": [],
   "source": [
    "#import Pandas\n",
    "\n",
    "import pandas as pd"
   ]
  },
  {
   "cell_type": "code",
   "execution_count": 6,
   "metadata": {},
   "outputs": [],
   "source": [
    "#Read the given csv file, use encoding = 'unicode_escape' to avoid encoding error\n",
    "\n",
    "df = pd.read_csv(\"yugioh.csv\", encoding = 'unicode_escape')"
   ]
  },
  {
   "cell_type": "code",
   "execution_count": 7,
   "metadata": {},
   "outputs": [
    {
     "data": {
      "text/html": [
       "<div>\n",
       "<style scoped>\n",
       "    .dataframe tbody tr th:only-of-type {\n",
       "        vertical-align: middle;\n",
       "    }\n",
       "\n",
       "    .dataframe tbody tr th {\n",
       "        vertical-align: top;\n",
       "    }\n",
       "\n",
       "    .dataframe thead th {\n",
       "        text-align: right;\n",
       "    }\n",
       "</style>\n",
       "<table border=\"1\" class=\"dataframe\">\n",
       "  <thead>\n",
       "    <tr style=\"text-align: right;\">\n",
       "      <th></th>\n",
       "      <th>name</th>\n",
       "      <th>attack</th>\n",
       "      <th>attribute</th>\n",
       "      <th>defense</th>\n",
       "      <th>has_materials</th>\n",
       "      <th>has_name_condition</th>\n",
       "      <th>is_extra_deck</th>\n",
       "      <th>is_fusion</th>\n",
       "      <th>is_link</th>\n",
       "      <th>is_pendulum</th>\n",
       "      <th>...</th>\n",
       "      <th>materials</th>\n",
       "      <th>monster_types</th>\n",
       "      <th>name_condition</th>\n",
       "      <th>number</th>\n",
       "      <th>pendulum_left</th>\n",
       "      <th>pendulum_right</th>\n",
       "      <th>pendulum_text</th>\n",
       "      <th>Type</th>\n",
       "      <th>stars</th>\n",
       "      <th>text</th>\n",
       "    </tr>\n",
       "  </thead>\n",
       "  <tbody>\n",
       "    <tr>\n",
       "      <td>0</td>\n",
       "      <td>3-Hump Lacooda</td>\n",
       "      <td>500</td>\n",
       "      <td>EARTH</td>\n",
       "      <td>1500</td>\n",
       "      <td>False</td>\n",
       "      <td>False</td>\n",
       "      <td>False</td>\n",
       "      <td>False</td>\n",
       "      <td>False</td>\n",
       "      <td>False</td>\n",
       "      <td>...</td>\n",
       "      <td>NaN</td>\n",
       "      <td>['Effect']</td>\n",
       "      <td>NaN</td>\n",
       "      <td>86988864</td>\n",
       "      <td>NaN</td>\n",
       "      <td>NaN</td>\n",
       "      <td>NaN</td>\n",
       "      <td>Beast</td>\n",
       "      <td>3.0</td>\n",
       "      <td>If there are 3 face-up \"3-Hump Lacooda\" cards ...</td>\n",
       "    </tr>\n",
       "    <tr>\n",
       "      <td>1</td>\n",
       "      <td>30,000-Year White Turtle</td>\n",
       "      <td>1250</td>\n",
       "      <td>WATER</td>\n",
       "      <td>2100</td>\n",
       "      <td>False</td>\n",
       "      <td>False</td>\n",
       "      <td>False</td>\n",
       "      <td>False</td>\n",
       "      <td>False</td>\n",
       "      <td>False</td>\n",
       "      <td>...</td>\n",
       "      <td>NaN</td>\n",
       "      <td>['Normal']</td>\n",
       "      <td>NaN</td>\n",
       "      <td>11714098</td>\n",
       "      <td>NaN</td>\n",
       "      <td>NaN</td>\n",
       "      <td>NaN</td>\n",
       "      <td>Aqua</td>\n",
       "      <td>5.0</td>\n",
       "      <td>A huge turtle that has existed for more than 3...</td>\n",
       "    </tr>\n",
       "    <tr>\n",
       "      <td>2</td>\n",
       "      <td>4-Starred Ladybug of Doom</td>\n",
       "      <td>800</td>\n",
       "      <td>WIND</td>\n",
       "      <td>1200</td>\n",
       "      <td>False</td>\n",
       "      <td>False</td>\n",
       "      <td>False</td>\n",
       "      <td>False</td>\n",
       "      <td>False</td>\n",
       "      <td>False</td>\n",
       "      <td>...</td>\n",
       "      <td>NaN</td>\n",
       "      <td>['Flip', 'Effect']</td>\n",
       "      <td>NaN</td>\n",
       "      <td>83994646</td>\n",
       "      <td>NaN</td>\n",
       "      <td>NaN</td>\n",
       "      <td>NaN</td>\n",
       "      <td>Insect</td>\n",
       "      <td>3.0</td>\n",
       "      <td>FLIP: Destroy all Level 4 monsters your oppone...</td>\n",
       "    </tr>\n",
       "    <tr>\n",
       "      <td>3</td>\n",
       "      <td>7 Colored Fish</td>\n",
       "      <td>1800</td>\n",
       "      <td>WATER</td>\n",
       "      <td>800</td>\n",
       "      <td>False</td>\n",
       "      <td>False</td>\n",
       "      <td>False</td>\n",
       "      <td>False</td>\n",
       "      <td>False</td>\n",
       "      <td>False</td>\n",
       "      <td>...</td>\n",
       "      <td>NaN</td>\n",
       "      <td>['Normal']</td>\n",
       "      <td>NaN</td>\n",
       "      <td>23771716</td>\n",
       "      <td>NaN</td>\n",
       "      <td>NaN</td>\n",
       "      <td>NaN</td>\n",
       "      <td>Fish</td>\n",
       "      <td>4.0</td>\n",
       "      <td>A rare rainbow fish that has never been caught...</td>\n",
       "    </tr>\n",
       "    <tr>\n",
       "      <td>4</td>\n",
       "      <td>8-Claws Scorpion</td>\n",
       "      <td>300</td>\n",
       "      <td>DARK</td>\n",
       "      <td>200</td>\n",
       "      <td>False</td>\n",
       "      <td>False</td>\n",
       "      <td>False</td>\n",
       "      <td>False</td>\n",
       "      <td>False</td>\n",
       "      <td>False</td>\n",
       "      <td>...</td>\n",
       "      <td>NaN</td>\n",
       "      <td>['Effect']</td>\n",
       "      <td>NaN</td>\n",
       "      <td>14261867</td>\n",
       "      <td>NaN</td>\n",
       "      <td>NaN</td>\n",
       "      <td>NaN</td>\n",
       "      <td>Insect</td>\n",
       "      <td>2.0</td>\n",
       "      <td>Once per turn, you can flip this card into fac...</td>\n",
       "    </tr>\n",
       "  </tbody>\n",
       "</table>\n",
       "<p>5 rows × 24 columns</p>\n",
       "</div>"
      ],
      "text/plain": [
       "                        name attack attribute defense  has_materials  \\\n",
       "0             3-Hump Lacooda    500     EARTH    1500          False   \n",
       "1   30,000-Year White Turtle   1250     WATER    2100          False   \n",
       "2  4-Starred Ladybug of Doom    800      WIND    1200          False   \n",
       "3             7 Colored Fish   1800     WATER     800          False   \n",
       "4           8-Claws Scorpion    300      DARK     200          False   \n",
       "\n",
       "   has_name_condition  is_extra_deck  is_fusion  is_link  is_pendulum  ...  \\\n",
       "0               False          False      False    False        False  ...   \n",
       "1               False          False      False    False        False  ...   \n",
       "2               False          False      False    False        False  ...   \n",
       "3               False          False      False    False        False  ...   \n",
       "4               False          False      False    False        False  ...   \n",
       "\n",
       "   materials       monster_types name_condition    number pendulum_left  \\\n",
       "0        NaN          ['Effect']            NaN  86988864           NaN   \n",
       "1        NaN          ['Normal']            NaN  11714098           NaN   \n",
       "2        NaN  ['Flip', 'Effect']            NaN  83994646           NaN   \n",
       "3        NaN          ['Normal']            NaN  23771716           NaN   \n",
       "4        NaN          ['Effect']            NaN  14261867           NaN   \n",
       "\n",
       "  pendulum_right pendulum_text    Type  stars  \\\n",
       "0            NaN           NaN   Beast    3.0   \n",
       "1            NaN           NaN    Aqua    5.0   \n",
       "2            NaN           NaN  Insect    3.0   \n",
       "3            NaN           NaN    Fish    4.0   \n",
       "4            NaN           NaN  Insect    2.0   \n",
       "\n",
       "                                                text  \n",
       "0  If there are 3 face-up \"3-Hump Lacooda\" cards ...  \n",
       "1  A huge turtle that has existed for more than 3...  \n",
       "2  FLIP: Destroy all Level 4 monsters your oppone...  \n",
       "3  A rare rainbow fish that has never been caught...  \n",
       "4  Once per turn, you can flip this card into fac...  \n",
       "\n",
       "[5 rows x 24 columns]"
      ]
     },
     "execution_count": 7,
     "metadata": {},
     "output_type": "execute_result"
    }
   ],
   "source": [
    "#Display first 5 instances of data\n",
    "\n",
    "df.head()"
   ]
  },
  {
   "cell_type": "code",
   "execution_count": 74,
   "metadata": {},
   "outputs": [
    {
     "data": {
      "text/plain": [
       "name                  5949\n",
       "attack                5949\n",
       "attribute             5949\n",
       "defense               5842\n",
       "has_materials         5949\n",
       "has_name_condition    5949\n",
       "is_extra_deck         5949\n",
       "is_fusion             5949\n",
       "is_link               5949\n",
       "is_pendulum           5949\n",
       "is_synchro            5949\n",
       "is_xyz                5949\n",
       "link_markers           107\n",
       "link_number            107\n",
       "materials             1030\n",
       "monster_types         5949\n",
       "name_condition           6\n",
       "number                5927\n",
       "pendulum_left          241\n",
       "pendulum_right         241\n",
       "pendulum_text          240\n",
       "Type                  5949\n",
       "stars                 5836\n",
       "text                  5888\n",
       "dtype: int64"
      ]
     },
     "execution_count": 74,
     "metadata": {},
     "output_type": "execute_result"
    }
   ],
   "source": [
    "#Count how many cards are in the dataset?\n",
    "\n",
    "df.count()"
   ]
  },
  {
   "cell_type": "code",
   "execution_count": 57,
   "metadata": {},
   "outputs": [
    {
     "data": {
      "text/plain": [
       "40"
      ]
     },
     "execution_count": 57,
     "metadata": {},
     "output_type": "execute_result"
    }
   ],
   "source": [
    "#What are the possible attributes for a monster card?\n",
    "\n",
    "df['monster_types'].nunique()"
   ]
  },
  {
   "cell_type": "code",
   "execution_count": 73,
   "metadata": {},
   "outputs": [
    {
     "data": {
      "text/plain": [
       "name                  464\n",
       "attack                464\n",
       "attribute             464\n",
       "defense               455\n",
       "has_materials         464\n",
       "has_name_condition    464\n",
       "is_extra_deck         464\n",
       "is_fusion             464\n",
       "is_link               464\n",
       "is_pendulum           464\n",
       "is_synchro            464\n",
       "is_xyz                464\n",
       "link_markers            9\n",
       "link_number             9\n",
       "materials             164\n",
       "monster_types         464\n",
       "name_condition          0\n",
       "number                462\n",
       "pendulum_left          29\n",
       "pendulum_right         29\n",
       "pendulum_text          29\n",
       "Type                  464\n",
       "stars                 453\n",
       "text                  459\n",
       "dtype: int64"
      ]
     },
     "execution_count": 73,
     "metadata": {},
     "output_type": "execute_result"
    }
   ],
   "source": [
    "#How many cards are Dragon type?\n",
    "\n",
    "df[df[\"Type\"] == \"Dragon\"].count()"
   ]
  },
  {
   "cell_type": "code",
   "execution_count": 37,
   "metadata": {},
   "outputs": [
    {
     "data": {
      "text/plain": [
       "name                  60\n",
       "attack                60\n",
       "attribute             60\n",
       "defense               60\n",
       "has_materials         60\n",
       "has_name_condition    60\n",
       "is_extra_deck         60\n",
       "is_fusion             60\n",
       "is_link               60\n",
       "is_pendulum           60\n",
       "is_synchro            60\n",
       "is_xyz                60\n",
       "link_markers           0\n",
       "link_number            0\n",
       "materials             60\n",
       "monster_types         60\n",
       "name_condition         0\n",
       "number                60\n",
       "pendulum_left          0\n",
       "pendulum_right         0\n",
       "pendulum_text          0\n",
       "Type                  60\n",
       "stars                 60\n",
       "text                   8\n",
       "dtype: int64"
      ]
     },
     "execution_count": 37,
     "metadata": {},
     "output_type": "execute_result"
    }
   ],
   "source": [
    "#How many cards are Fusion?\n",
    "\n",
    "df[df[\"monster_types\"] == \"['Fusion']\"].count()"
   ]
  },
  {
   "cell_type": "code",
   "execution_count": 50,
   "metadata": {},
   "outputs": [
    {
     "data": {
      "text/plain": [
       "name                  7\n",
       "attack                7\n",
       "attribute             7\n",
       "defense               7\n",
       "has_materials         7\n",
       "has_name_condition    7\n",
       "is_extra_deck         7\n",
       "is_fusion             7\n",
       "is_link               7\n",
       "is_pendulum           7\n",
       "is_synchro            7\n",
       "is_xyz                7\n",
       "link_markers          0\n",
       "link_number           0\n",
       "materials             7\n",
       "monster_types         7\n",
       "name_condition        0\n",
       "number                7\n",
       "pendulum_left         0\n",
       "pendulum_right        0\n",
       "pendulum_text         0\n",
       "Type                  7\n",
       "stars                 7\n",
       "text                  2\n",
       "dtype: int64"
      ]
     },
     "execution_count": 50,
     "metadata": {},
     "output_type": "execute_result"
    }
   ],
   "source": [
    "#How many are dragon type in the same time are fusion?\n",
    "\n",
    "dragon_types = df[df[\"Type\"] == \"Dragon\"]\n",
    "\n",
    "dragon_fusion = dragon_types[dragon_types[\"monster_types\"] == \"['Fusion']\"]\n",
    "\n",
    "dragon_fusion.count()"
   ]
  },
  {
   "cell_type": "code",
   "execution_count": 77,
   "metadata": {},
   "outputs": [
    {
     "data": {
      "text/plain": [
       "name                  0.077996\n",
       "attack                0.077996\n",
       "attribute             0.077996\n",
       "defense               0.077884\n",
       "has_materials         0.077996\n",
       "has_name_condition    0.077996\n",
       "is_extra_deck         0.077996\n",
       "is_fusion             0.077996\n",
       "is_link               0.077996\n",
       "is_pendulum           0.077996\n",
       "is_synchro            0.077996\n",
       "is_xyz                0.077996\n",
       "link_markers          0.084112\n",
       "link_number           0.084112\n",
       "materials             0.159223\n",
       "monster_types         0.077996\n",
       "name_condition        0.000000\n",
       "number                0.077948\n",
       "pendulum_left         0.120332\n",
       "pendulum_right        0.120332\n",
       "pendulum_text         0.120833\n",
       "Type                  0.077996\n",
       "stars                 0.077622\n",
       "text                  0.077955\n",
       "dtype: float64"
      ]
     },
     "execution_count": 77,
     "metadata": {},
     "output_type": "execute_result"
    }
   ],
   "source": [
    "#What is the ratio of Dragon type monsters?\n",
    "\n",
    "dragon_count = df[df[\"Type\"] == \"Dragon\"].count()\n",
    "\n",
    "ratio = dragon_count / df.count()\n",
    "\n",
    "ratio"
   ]
  },
  {
   "cell_type": "code",
   "execution_count": null,
   "metadata": {},
   "outputs": [],
   "source": []
  }
 ],
 "metadata": {
  "kernelspec": {
   "display_name": "Python 3",
   "language": "python",
   "name": "python3"
  },
  "language_info": {
   "codemirror_mode": {
    "name": "ipython",
    "version": 3
   },
   "file_extension": ".py",
   "mimetype": "text/x-python",
   "name": "python",
   "nbconvert_exporter": "python",
   "pygments_lexer": "ipython3",
   "version": "3.7.4"
  }
 },
 "nbformat": 4,
 "nbformat_minor": 2
}
